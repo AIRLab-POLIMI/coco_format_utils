{
 "cells": [
  {
   "cell_type": "code",
   "execution_count": 156,
   "metadata": {},
   "outputs": [],
   "source": [
    "import os\n",
    "import shutil\n",
    "import random\n",
    "import json\n",
    "\n",
    "PICTURE_PER_SUBFOLDER = 17\n",
    "random.seed(420) \n",
    "\n",
    "# Set paths\n",
    "root_path = './rgb'\n",
    "subset_path = os.path.join(root_path, 'subset')\n",
    "coco_json_path = os.path.join(root_path, 'merged_annotations.coco.json')\n",
    "subset_coco_json_path = os.path.join(subset_path, 'subset_dataset.coco.json')\n",
    "\n",
    "# Set this flag to True if you want images directly in the 'subset' folder, or False if you want subdirectories for categories and dates\n",
    "use_flat_structure = True\n",
    "\n",
    "# Create the subset directory if it doesn't exist\n",
    "shutil.rmtree(subset_path)\n",
    "os.makedirs(subset_path, exist_ok=True)\n",
    "\n",
    "# Initialize lists to keep track of original and new paths\n",
    "path_mapping = []\n",
    "\n",
    "# Iterate through categories (beans and corn)\n",
    "for category in os.listdir(root_path):\n",
    "    if category == 'subset' :\n",
    "        continue\n",
    "    category_path = os.path.join(root_path, category)\n",
    "    if os.path.isdir(category_path):\n",
    "        subset_category_path = subset_path if use_flat_structure else os.path.join(subset_path, category)\n",
    "        os.makedirs(subset_category_path, exist_ok=True)\n",
    "        \n",
    "        # Get list of date folders (e.g., 2023-05-24)\n",
    "        date_folders = os.listdir(category_path)\n",
    "        \n",
    "        # Randomly select PICTURE_PER_SUBFOLDER images from each date folder\n",
    "        for date_folder in date_folders:\n",
    "            date_path = os.path.join(category_path, date_folder)\n",
    "            subset_date_path = subset_path if use_flat_structure else os.path.join(subset_category_path, date_folder)\n",
    "            os.makedirs(subset_date_path, exist_ok=True)\n",
    "            \n",
    "            image_files = [f for f in os.listdir(date_path) if f.endswith('.png')]\n",
    "            selected_images = random.sample(image_files, min(PICTURE_PER_SUBFOLDER, len(image_files)))\n",
    "            \n",
    "            for image in selected_images:\n",
    "                original_image_path = os.path.join(date_path, image)\n",
    "                new_image_path = os.path.join(subset_date_path, image)\n",
    "                shutil.copy(original_image_path, new_image_path)\n",
    "                \n",
    "                path_mapping.append({\n",
    "                    'original_path': original_image_path,\n",
    "                    'new_path': new_image_path\n",
    "                })\n",
    "\n",
    "# Save path mapping to a text file\n",
    "with open(os.path.join(subset_path, 'path_mapping.txt'), 'w') as mapping_file:\n",
    "    for mapping in path_mapping:\n",
    "        mapping_file.write(f\"Original: {mapping['original_path']}\\tNew: {mapping['new_path']}\\n\")\n",
    "\n",
    "# Load the original coco JSON\n",
    "with open(coco_json_path, 'r') as coco_json_file:\n",
    "    coco_data = json.load(coco_json_file)\n"
   ]
  },
  {
   "cell_type": "code",
   "execution_count": 157,
   "metadata": {},
   "outputs": [],
   "source": [
    "# Filter and create a subset of the coco data\n",
    "subset_coco_data = {'images': [], 'annotations': [], 'categories': coco_data['categories']}\n",
    "for image_info in coco_data['images']:\n",
    "    for mapping in path_mapping:\n",
    "        if mapping['original_path'].endswith(image_info['file_name']):\n",
    "            subset_coco_data['images'].append(image_info)\n",
    "\n",
    "for annotation in coco_data['annotations']:\n",
    "    for image in subset_coco_data['images']:\n",
    "        if annotation['image_id'] == image['id'] :\n",
    "            subset_coco_data['annotations'].append(annotation)\n"
   ]
  },
  {
   "cell_type": "code",
   "execution_count": 158,
   "metadata": {},
   "outputs": [],
   "source": [
    "# Save the subset coco JSON\n",
    "with open(subset_coco_json_path, 'w') as subset_coco_json_file:\n",
    "    json.dump(subset_coco_data, subset_coco_json_file)\n"
   ]
  }
 ],
 "metadata": {
  "kernelspec": {
   "display_name": "Python 3",
   "language": "python",
   "name": "python3"
  },
  "language_info": {
   "codemirror_mode": {
    "name": "ipython",
    "version": 3
   },
   "file_extension": ".py",
   "mimetype": "text/x-python",
   "name": "python",
   "nbconvert_exporter": "python",
   "pygments_lexer": "ipython3",
   "version": "3.11.4"
  },
  "orig_nbformat": 4
 },
 "nbformat": 4,
 "nbformat_minor": 2
}
